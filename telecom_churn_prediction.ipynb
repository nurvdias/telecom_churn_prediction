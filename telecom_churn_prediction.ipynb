{
 "cells": [
  {
   "cell_type": "code",
   "execution_count": 1,
   "metadata": {},
   "outputs": [],
   "source": [
    "import pandas as pd\n",
    "import numpy as np\n",
    "import seaborn as sns\n",
    "import matplotlib.pyplot as plt\n",
    "\n",
    "from sklearn import preprocessing"
   ]
  },
  {
   "cell_type": "code",
   "execution_count": 2,
   "metadata": {},
   "outputs": [],
   "source": [
    "df = pd.read_csv('./train.csv', sep=';', decimal=\",\", engine='python')"
   ]
  },
  {
   "cell_type": "code",
   "execution_count": 3,
   "metadata": {},
   "outputs": [
    {
     "data": {
      "text/html": [
       "<div>\n",
       "<style scoped>\n",
       "    .dataframe tbody tr th:only-of-type {\n",
       "        vertical-align: middle;\n",
       "    }\n",
       "\n",
       "    .dataframe tbody tr th {\n",
       "        vertical-align: top;\n",
       "    }\n",
       "\n",
       "    .dataframe thead th {\n",
       "        text-align: right;\n",
       "    }\n",
       "</style>\n",
       "<table border=\"1\" class=\"dataframe\">\n",
       "  <thead>\n",
       "    <tr style=\"text-align: right;\">\n",
       "      <th></th>\n",
       "      <th>C1</th>\n",
       "      <th>C2</th>\n",
       "      <th>C3</th>\n",
       "      <th>N1</th>\n",
       "      <th>N2</th>\n",
       "      <th>N3</th>\n",
       "      <th>N4</th>\n",
       "      <th>N5</th>\n",
       "      <th>N6</th>\n",
       "      <th>N7</th>\n",
       "      <th>...</th>\n",
       "      <th>N15</th>\n",
       "      <th>N16</th>\n",
       "      <th>N17</th>\n",
       "      <th>N18</th>\n",
       "      <th>N19</th>\n",
       "      <th>N20</th>\n",
       "      <th>N21</th>\n",
       "      <th>N22</th>\n",
       "      <th>N23</th>\n",
       "      <th>TARGET</th>\n",
       "    </tr>\n",
       "  </thead>\n",
       "  <tbody>\n",
       "    <tr>\n",
       "      <td>0</td>\n",
       "      <td>3139363536333839</td>\n",
       "      <td>323531</td>\n",
       "      <td>33</td>\n",
       "      <td>83.74</td>\n",
       "      <td>3172.92</td>\n",
       "      <td>181.48</td>\n",
       "      <td>24.83</td>\n",
       "      <td>9.60</td>\n",
       "      <td>0.00</td>\n",
       "      <td>0.00</td>\n",
       "      <td>...</td>\n",
       "      <td>7</td>\n",
       "      <td>0</td>\n",
       "      <td>0</td>\n",
       "      <td>36</td>\n",
       "      <td>7</td>\n",
       "      <td>36</td>\n",
       "      <td>7</td>\n",
       "      <td>0</td>\n",
       "      <td>0</td>\n",
       "      <td>0</td>\n",
       "    </tr>\n",
       "    <tr>\n",
       "      <td>1</td>\n",
       "      <td>3437333830323633</td>\n",
       "      <td>343835</td>\n",
       "      <td>31</td>\n",
       "      <td>1.46</td>\n",
       "      <td>1273.88</td>\n",
       "      <td>92.11</td>\n",
       "      <td>211.78</td>\n",
       "      <td>28.98</td>\n",
       "      <td>5.75</td>\n",
       "      <td>13.85</td>\n",
       "      <td>...</td>\n",
       "      <td>18</td>\n",
       "      <td>5</td>\n",
       "      <td>6</td>\n",
       "      <td>52</td>\n",
       "      <td>12</td>\n",
       "      <td>57</td>\n",
       "      <td>18</td>\n",
       "      <td>0</td>\n",
       "      <td>0</td>\n",
       "      <td>0</td>\n",
       "    </tr>\n",
       "    <tr>\n",
       "      <td>2</td>\n",
       "      <td>3134323931353339</td>\n",
       "      <td>323531</td>\n",
       "      <td>33</td>\n",
       "      <td>0.00</td>\n",
       "      <td>31.95</td>\n",
       "      <td>763.19</td>\n",
       "      <td>48.13</td>\n",
       "      <td>77.22</td>\n",
       "      <td>9.33</td>\n",
       "      <td>4.90</td>\n",
       "      <td>...</td>\n",
       "      <td>24</td>\n",
       "      <td>18</td>\n",
       "      <td>6</td>\n",
       "      <td>46</td>\n",
       "      <td>18</td>\n",
       "      <td>64</td>\n",
       "      <td>24</td>\n",
       "      <td>0</td>\n",
       "      <td>0</td>\n",
       "      <td>0</td>\n",
       "    </tr>\n",
       "    <tr>\n",
       "      <td>3</td>\n",
       "      <td>3431333831343031</td>\n",
       "      <td>343433</td>\n",
       "      <td>31</td>\n",
       "      <td>117.49</td>\n",
       "      <td>529.19</td>\n",
       "      <td>1506.40</td>\n",
       "      <td>127.67</td>\n",
       "      <td>49.30</td>\n",
       "      <td>6.25</td>\n",
       "      <td>0.20</td>\n",
       "      <td>...</td>\n",
       "      <td>57</td>\n",
       "      <td>4</td>\n",
       "      <td>1</td>\n",
       "      <td>142</td>\n",
       "      <td>56</td>\n",
       "      <td>148</td>\n",
       "      <td>57</td>\n",
       "      <td>0</td>\n",
       "      <td>0</td>\n",
       "      <td>0</td>\n",
       "    </tr>\n",
       "    <tr>\n",
       "      <td>4</td>\n",
       "      <td>3233343933313234</td>\n",
       "      <td>343835</td>\n",
       "      <td>31</td>\n",
       "      <td>0.00</td>\n",
       "      <td>38.24</td>\n",
       "      <td>3493.18</td>\n",
       "      <td>389.98</td>\n",
       "      <td>72.78</td>\n",
       "      <td>16.72</td>\n",
       "      <td>4.28</td>\n",
       "      <td>...</td>\n",
       "      <td>28</td>\n",
       "      <td>17</td>\n",
       "      <td>5</td>\n",
       "      <td>69</td>\n",
       "      <td>23</td>\n",
       "      <td>86</td>\n",
       "      <td>28</td>\n",
       "      <td>0</td>\n",
       "      <td>0</td>\n",
       "      <td>0</td>\n",
       "    </tr>\n",
       "  </tbody>\n",
       "</table>\n",
       "<p>5 rows × 27 columns</p>\n",
       "</div>"
      ],
      "text/plain": [
       "                 C1      C2  C3      N1       N2       N3      N4     N5  \\\n",
       "0  3139363536333839  323531  33   83.74  3172.92   181.48   24.83   9.60   \n",
       "1  3437333830323633  343835  31    1.46  1273.88    92.11  211.78  28.98   \n",
       "2  3134323931353339  323531  33    0.00    31.95   763.19   48.13  77.22   \n",
       "3  3431333831343031  343433  31  117.49   529.19  1506.40  127.67  49.30   \n",
       "4  3233343933313234  343835  31    0.00    38.24  3493.18  389.98  72.78   \n",
       "\n",
       "      N6     N7  ...  N15  N16  N17  N18  N19  N20  N21  N22  N23  TARGET  \n",
       "0   0.00   0.00  ...    7    0    0   36    7   36    7    0    0       0  \n",
       "1   5.75  13.85  ...   18    5    6   52   12   57   18    0    0       0  \n",
       "2   9.33   4.90  ...   24   18    6   46   18   64   24    0    0       0  \n",
       "3   6.25   0.20  ...   57    4    1  142   56  148   57    0    0       0  \n",
       "4  16.72   4.28  ...   28   17    5   69   23   86   28    0    0       0  \n",
       "\n",
       "[5 rows x 27 columns]"
      ]
     },
     "execution_count": 3,
     "metadata": {},
     "output_type": "execute_result"
    }
   ],
   "source": [
    "df.head(5)"
   ]
  },
  {
   "cell_type": "code",
   "execution_count": 4,
   "metadata": {},
   "outputs": [
    {
     "data": {
      "text/plain": [
       "(514009, 27)"
      ]
     },
     "execution_count": 4,
     "metadata": {},
     "output_type": "execute_result"
    }
   ],
   "source": [
    "df.shape"
   ]
  },
  {
   "cell_type": "markdown",
   "metadata": {},
   "source": [
    "## EDA"
   ]
  },
  {
   "cell_type": "code",
   "execution_count": 5,
   "metadata": {},
   "outputs": [
    {
     "name": "stdout",
     "output_type": "stream",
     "text": [
      "<class 'pandas.core.frame.DataFrame'>\n",
      "RangeIndex: 514009 entries, 0 to 514008\n",
      "Data columns (total 27 columns):\n",
      "C1        514009 non-null int64\n",
      "C2        514009 non-null int64\n",
      "C3        514009 non-null int64\n",
      "N1        514009 non-null float64\n",
      "N2        514009 non-null float64\n",
      "N3        514009 non-null float64\n",
      "N4        514009 non-null float64\n",
      "N5        514009 non-null float64\n",
      "N6        514009 non-null float64\n",
      "N7        514009 non-null float64\n",
      "N8        514009 non-null float64\n",
      "N9        514009 non-null float64\n",
      "N10       514009 non-null float64\n",
      "N11       514009 non-null float64\n",
      "N12       514009 non-null float64\n",
      "N13       514009 non-null float64\n",
      "N14       514009 non-null int64\n",
      "N15       514009 non-null int64\n",
      "N16       514009 non-null int64\n",
      "N17       514009 non-null int64\n",
      "N18       514009 non-null int64\n",
      "N19       514009 non-null int64\n",
      "N20       514009 non-null int64\n",
      "N21       514009 non-null int64\n",
      "N22       514009 non-null int64\n",
      "N23       514009 non-null int64\n",
      "TARGET    514009 non-null int64\n",
      "dtypes: float64(13), int64(14)\n",
      "memory usage: 105.9 MB\n"
     ]
    }
   ],
   "source": [
    "df.info()"
   ]
  },
  {
   "cell_type": "code",
   "execution_count": 6,
   "metadata": {},
   "outputs": [
    {
     "name": "stdout",
     "output_type": "stream",
     "text": [
      "C1: 514009\n",
      "C2: 64\n",
      "C3: 3\n"
     ]
    }
   ],
   "source": [
    "print(f\"C1: {len(df['C1'].unique())}\")\n",
    "print(f\"C2: {len(df['C2'].unique())}\")\n",
    "print(f\"C3: {len(df['C3'].unique())}\")"
   ]
  },
  {
   "cell_type": "code",
   "execution_count": 7,
   "metadata": {},
   "outputs": [
    {
     "data": {
      "text/html": [
       "<div>\n",
       "<style scoped>\n",
       "    .dataframe tbody tr th:only-of-type {\n",
       "        vertical-align: middle;\n",
       "    }\n",
       "\n",
       "    .dataframe tbody tr th {\n",
       "        vertical-align: top;\n",
       "    }\n",
       "\n",
       "    .dataframe thead th {\n",
       "        text-align: right;\n",
       "    }\n",
       "</style>\n",
       "<table border=\"1\" class=\"dataframe\">\n",
       "  <thead>\n",
       "    <tr style=\"text-align: right;\">\n",
       "      <th></th>\n",
       "      <th>C1</th>\n",
       "      <th>C2</th>\n",
       "      <th>C3</th>\n",
       "      <th>N1</th>\n",
       "      <th>N2</th>\n",
       "      <th>N3</th>\n",
       "      <th>N4</th>\n",
       "      <th>N5</th>\n",
       "      <th>N6</th>\n",
       "      <th>N7</th>\n",
       "      <th>...</th>\n",
       "      <th>N15</th>\n",
       "      <th>N16</th>\n",
       "      <th>N17</th>\n",
       "      <th>N18</th>\n",
       "      <th>N19</th>\n",
       "      <th>N20</th>\n",
       "      <th>N21</th>\n",
       "      <th>N22</th>\n",
       "      <th>N23</th>\n",
       "      <th>TARGET</th>\n",
       "    </tr>\n",
       "  </thead>\n",
       "  <tbody>\n",
       "    <tr>\n",
       "      <td>count</td>\n",
       "      <td>5.140090e+05</td>\n",
       "      <td>514009.000000</td>\n",
       "      <td>514009.000000</td>\n",
       "      <td>514009.000000</td>\n",
       "      <td>514009.000000</td>\n",
       "      <td>514009.000000</td>\n",
       "      <td>514009.000000</td>\n",
       "      <td>514009.000000</td>\n",
       "      <td>514009.000000</td>\n",
       "      <td>514009.000000</td>\n",
       "      <td>...</td>\n",
       "      <td>514009.000000</td>\n",
       "      <td>514009.000000</td>\n",
       "      <td>514009.000000</td>\n",
       "      <td>514009.00000</td>\n",
       "      <td>514009.000000</td>\n",
       "      <td>514009.000000</td>\n",
       "      <td>514009.000000</td>\n",
       "      <td>514009.000000</td>\n",
       "      <td>514009.000000</td>\n",
       "      <td>514009.000000</td>\n",
       "    </tr>\n",
       "    <tr>\n",
       "      <td>mean</td>\n",
       "      <td>3.125269e+15</td>\n",
       "      <td>327890.745425</td>\n",
       "      <td>31.630411</td>\n",
       "      <td>44.571923</td>\n",
       "      <td>934.872724</td>\n",
       "      <td>2875.756859</td>\n",
       "      <td>108.307058</td>\n",
       "      <td>62.711117</td>\n",
       "      <td>12.868516</td>\n",
       "      <td>9.464795</td>\n",
       "      <td>...</td>\n",
       "      <td>29.079176</td>\n",
       "      <td>10.447070</td>\n",
       "      <td>7.747530</td>\n",
       "      <td>38.66520</td>\n",
       "      <td>21.243424</td>\n",
       "      <td>49.609273</td>\n",
       "      <td>29.059777</td>\n",
       "      <td>0.046978</td>\n",
       "      <td>0.019398</td>\n",
       "      <td>0.049307</td>\n",
       "    </tr>\n",
       "    <tr>\n",
       "      <td>std</td>\n",
       "      <td>8.589417e+14</td>\n",
       "      <td>51107.511245</td>\n",
       "      <td>0.929149</td>\n",
       "      <td>232.708320</td>\n",
       "      <td>2272.072942</td>\n",
       "      <td>4932.847144</td>\n",
       "      <td>197.771895</td>\n",
       "      <td>99.919667</td>\n",
       "      <td>19.511682</td>\n",
       "      <td>16.725490</td>\n",
       "      <td>...</td>\n",
       "      <td>31.241034</td>\n",
       "      <td>14.888752</td>\n",
       "      <td>11.964678</td>\n",
       "      <td>50.26614</td>\n",
       "      <td>24.155985</td>\n",
       "      <td>58.757945</td>\n",
       "      <td>31.233367</td>\n",
       "      <td>0.708441</td>\n",
       "      <td>0.349181</td>\n",
       "      <td>0.216507</td>\n",
       "    </tr>\n",
       "    <tr>\n",
       "      <td>min</td>\n",
       "      <td>3.530330e+05</td>\n",
       "      <td>3138.000000</td>\n",
       "      <td>31.000000</td>\n",
       "      <td>0.000000</td>\n",
       "      <td>0.000000</td>\n",
       "      <td>0.000000</td>\n",
       "      <td>0.000000</td>\n",
       "      <td>0.000000</td>\n",
       "      <td>0.000000</td>\n",
       "      <td>0.000000</td>\n",
       "      <td>...</td>\n",
       "      <td>0.000000</td>\n",
       "      <td>0.000000</td>\n",
       "      <td>0.000000</td>\n",
       "      <td>0.00000</td>\n",
       "      <td>0.000000</td>\n",
       "      <td>0.000000</td>\n",
       "      <td>0.000000</td>\n",
       "      <td>0.000000</td>\n",
       "      <td>0.000000</td>\n",
       "      <td>0.000000</td>\n",
       "    </tr>\n",
       "    <tr>\n",
       "      <td>25%</td>\n",
       "      <td>3.231393e+15</td>\n",
       "      <td>323531.000000</td>\n",
       "      <td>31.000000</td>\n",
       "      <td>0.000000</td>\n",
       "      <td>0.000000</td>\n",
       "      <td>0.000000</td>\n",
       "      <td>2.800000</td>\n",
       "      <td>9.580000</td>\n",
       "      <td>0.000000</td>\n",
       "      <td>0.220000</td>\n",
       "      <td>...</td>\n",
       "      <td>8.000000</td>\n",
       "      <td>0.000000</td>\n",
       "      <td>1.000000</td>\n",
       "      <td>2.00000</td>\n",
       "      <td>4.000000</td>\n",
       "      <td>4.000000</td>\n",
       "      <td>8.000000</td>\n",
       "      <td>0.000000</td>\n",
       "      <td>0.000000</td>\n",
       "      <td>0.000000</td>\n",
       "    </tr>\n",
       "    <tr>\n",
       "      <td>50%</td>\n",
       "      <td>3.337374e+15</td>\n",
       "      <td>343230.000000</td>\n",
       "      <td>31.000000</td>\n",
       "      <td>0.000000</td>\n",
       "      <td>77.460000</td>\n",
       "      <td>109.600000</td>\n",
       "      <td>45.000000</td>\n",
       "      <td>33.020000</td>\n",
       "      <td>4.970000</td>\n",
       "      <td>3.300000</td>\n",
       "      <td>...</td>\n",
       "      <td>20.000000</td>\n",
       "      <td>5.000000</td>\n",
       "      <td>4.000000</td>\n",
       "      <td>21.00000</td>\n",
       "      <td>14.000000</td>\n",
       "      <td>32.000000</td>\n",
       "      <td>20.000000</td>\n",
       "      <td>0.000000</td>\n",
       "      <td>0.000000</td>\n",
       "      <td>0.000000</td>\n",
       "    </tr>\n",
       "    <tr>\n",
       "      <td>75%</td>\n",
       "      <td>3.437364e+15</td>\n",
       "      <td>343636.000000</td>\n",
       "      <td>33.000000</td>\n",
       "      <td>0.560000</td>\n",
       "      <td>785.780000</td>\n",
       "      <td>4247.730000</td>\n",
       "      <td>132.020000</td>\n",
       "      <td>77.500000</td>\n",
       "      <td>18.350000</td>\n",
       "      <td>11.570000</td>\n",
       "      <td>...</td>\n",
       "      <td>40.000000</td>\n",
       "      <td>15.000000</td>\n",
       "      <td>10.000000</td>\n",
       "      <td>56.00000</td>\n",
       "      <td>30.000000</td>\n",
       "      <td>73.000000</td>\n",
       "      <td>40.000000</td>\n",
       "      <td>0.000000</td>\n",
       "      <td>0.000000</td>\n",
       "      <td>0.000000</td>\n",
       "    </tr>\n",
       "    <tr>\n",
       "      <td>max</td>\n",
       "      <td>3.536383e+15</td>\n",
       "      <td>353036.000000</td>\n",
       "      <td>33.000000</td>\n",
       "      <td>27971.110000</td>\n",
       "      <td>96905.370000</td>\n",
       "      <td>201234.910000</td>\n",
       "      <td>9197.630000</td>\n",
       "      <td>5192.670000</td>\n",
       "      <td>441.880000</td>\n",
       "      <td>999.780000</td>\n",
       "      <td>...</td>\n",
       "      <td>1258.000000</td>\n",
       "      <td>430.000000</td>\n",
       "      <td>499.000000</td>\n",
       "      <td>1109.00000</td>\n",
       "      <td>1024.000000</td>\n",
       "      <td>1346.000000</td>\n",
       "      <td>1258.000000</td>\n",
       "      <td>118.000000</td>\n",
       "      <td>99.000000</td>\n",
       "      <td>1.000000</td>\n",
       "    </tr>\n",
       "  </tbody>\n",
       "</table>\n",
       "<p>8 rows × 27 columns</p>\n",
       "</div>"
      ],
      "text/plain": [
       "                 C1             C2             C3             N1  \\\n",
       "count  5.140090e+05  514009.000000  514009.000000  514009.000000   \n",
       "mean   3.125269e+15  327890.745425      31.630411      44.571923   \n",
       "std    8.589417e+14   51107.511245       0.929149     232.708320   \n",
       "min    3.530330e+05    3138.000000      31.000000       0.000000   \n",
       "25%    3.231393e+15  323531.000000      31.000000       0.000000   \n",
       "50%    3.337374e+15  343230.000000      31.000000       0.000000   \n",
       "75%    3.437364e+15  343636.000000      33.000000       0.560000   \n",
       "max    3.536383e+15  353036.000000      33.000000   27971.110000   \n",
       "\n",
       "                  N2             N3             N4             N5  \\\n",
       "count  514009.000000  514009.000000  514009.000000  514009.000000   \n",
       "mean      934.872724    2875.756859     108.307058      62.711117   \n",
       "std      2272.072942    4932.847144     197.771895      99.919667   \n",
       "min         0.000000       0.000000       0.000000       0.000000   \n",
       "25%         0.000000       0.000000       2.800000       9.580000   \n",
       "50%        77.460000     109.600000      45.000000      33.020000   \n",
       "75%       785.780000    4247.730000     132.020000      77.500000   \n",
       "max     96905.370000  201234.910000    9197.630000    5192.670000   \n",
       "\n",
       "                  N6             N7  ...            N15            N16  \\\n",
       "count  514009.000000  514009.000000  ...  514009.000000  514009.000000   \n",
       "mean       12.868516       9.464795  ...      29.079176      10.447070   \n",
       "std        19.511682      16.725490  ...      31.241034      14.888752   \n",
       "min         0.000000       0.000000  ...       0.000000       0.000000   \n",
       "25%         0.000000       0.220000  ...       8.000000       0.000000   \n",
       "50%         4.970000       3.300000  ...      20.000000       5.000000   \n",
       "75%        18.350000      11.570000  ...      40.000000      15.000000   \n",
       "max       441.880000     999.780000  ...    1258.000000     430.000000   \n",
       "\n",
       "                 N17           N18            N19            N20  \\\n",
       "count  514009.000000  514009.00000  514009.000000  514009.000000   \n",
       "mean        7.747530      38.66520      21.243424      49.609273   \n",
       "std        11.964678      50.26614      24.155985      58.757945   \n",
       "min         0.000000       0.00000       0.000000       0.000000   \n",
       "25%         1.000000       2.00000       4.000000       4.000000   \n",
       "50%         4.000000      21.00000      14.000000      32.000000   \n",
       "75%        10.000000      56.00000      30.000000      73.000000   \n",
       "max       499.000000    1109.00000    1024.000000    1346.000000   \n",
       "\n",
       "                 N21            N22            N23         TARGET  \n",
       "count  514009.000000  514009.000000  514009.000000  514009.000000  \n",
       "mean       29.059777       0.046978       0.019398       0.049307  \n",
       "std        31.233367       0.708441       0.349181       0.216507  \n",
       "min         0.000000       0.000000       0.000000       0.000000  \n",
       "25%         8.000000       0.000000       0.000000       0.000000  \n",
       "50%        20.000000       0.000000       0.000000       0.000000  \n",
       "75%        40.000000       0.000000       0.000000       0.000000  \n",
       "max      1258.000000     118.000000      99.000000       1.000000  \n",
       "\n",
       "[8 rows x 27 columns]"
      ]
     },
     "execution_count": 7,
     "metadata": {},
     "output_type": "execute_result"
    }
   ],
   "source": [
    "df.describe()"
   ]
  },
  {
   "cell_type": "code",
   "execution_count": 8,
   "metadata": {},
   "outputs": [
    {
     "name": "stdout",
     "output_type": "stream",
     "text": [
      "488665 25344\n"
     ]
    },
    {
     "data": {
      "text/plain": [
       "<BarContainer object of 2 artists>"
      ]
     },
     "execution_count": 8,
     "metadata": {},
     "output_type": "execute_result"
    },
    {
     "data": {
      "image/png": "[encoded data removed]",
      "text/plain": [
       "<Figure size 432x288 with 1 Axes>"
      ]
     },
     "metadata": {
      "needs_background": "light"
     },
     "output_type": "display_data"
    }
   ],
   "source": [
    "zeros = df.TARGET.count() - df.TARGET.sum()\n",
    "ones = df.TARGET.sum()\n",
    "\n",
    "print(zeros, ones)\n",
    "plt.bar([\"0\", \"1\"], [zeros, ones])"
   ]
  },
  {
   "cell_type": "code",
   "execution_count": 9,
   "metadata": {},
   "outputs": [
    {
     "name": "stdout",
     "output_type": "stream",
     "text": [
      "\n",
      "Unique values : \n",
      " C1        514009\n",
      "C2            64\n",
      "C3             3\n",
      "N1         41280\n",
      "N2        174054\n",
      "N3        237938\n",
      "N4         42917\n",
      "N5         27573\n",
      "N6          8139\n",
      "N7          7537\n",
      "N8         40539\n",
      "N9         26504\n",
      "N10        42915\n",
      "N11        27552\n",
      "N12         1104\n",
      "N13          672\n",
      "N14          633\n",
      "N15          415\n",
      "N16          236\n",
      "N17          225\n",
      "N18          565\n",
      "N19          330\n",
      "N20          632\n",
      "N21          416\n",
      "N22           49\n",
      "N23           36\n",
      "TARGET         2\n",
      "dtype: int64\n"
     ]
    },
    {
     "data": {
      "text/plain": [
       "([0,\n",
       "  1,\n",
       "  2,\n",
       "  3,\n",
       "  4,\n",
       "  5,\n",
       "  6,\n",
       "  7,\n",
       "  8,\n",
       "  9,\n",
       "  10,\n",
       "  11,\n",
       "  12,\n",
       "  13,\n",
       "  14,\n",
       "  15,\n",
       "  16,\n",
       "  17,\n",
       "  18,\n",
       "  19,\n",
       "  20,\n",
       "  21,\n",
       "  22,\n",
       "  23,\n",
       "  24,\n",
       "  25,\n",
       "  26],\n",
       " <a list of 27 Text xticklabel objects>)"
      ]
     },
     "execution_count": 9,
     "metadata": {},
     "output_type": "execute_result"
    },
    {
     "data": {
      "image/png": "[encoded data removed]",
      "text/plain": [
       "<Figure size 432x288 with 1 Axes>"
      ]
     },
     "metadata": {
      "needs_background": "light"
     },
     "output_type": "display_data"
    }
   ],
   "source": [
    "print(\"\\nUnique values : \\n\",df.nunique())\n",
    "plt.bar(df.columns, df.nunique().values)\n",
    "plt.xticks(rotation='vertical')"
   ]
  },
  {
   "cell_type": "code",
   "execution_count": 10,
   "metadata": {},
   "outputs": [
    {
     "data": {
      "text/plain": [
       "([0, 1, 2, 3, 4, 5, 6, 7, 8, 9, 10, 11, 12],\n",
       " <a list of 13 Text xticklabel objects>)"
      ]
     },
     "execution_count": 10,
     "metadata": {},
     "output_type": "execute_result"
    },
    {
     "data": {
      "image/png": "[encoded data removed]",
      "text/plain": [
       "<Figure size 432x288 with 1 Axes>"
      ]
     },
     "metadata": {
      "needs_background": "light"
     },
     "output_type": "display_data"
    }
   ],
   "source": [
    "plt.bar(df.columns[14:], df.nunique()[14:])\n",
    "plt.xticks(rotation=\"vertical\")"
   ]
  },
  {
   "cell_type": "code",
   "execution_count": 11,
   "metadata": {},
   "outputs": [
    {
     "data": {
      "text/plain": [
       "<matplotlib.axes._subplots.AxesSubplot at 0x15e8d6ded30>"
      ]
     },
     "execution_count": 11,
     "metadata": {},
     "output_type": "execute_result"
    },
    {
     "data": {
      "image/png": "[encoded data removed]",
      "text/plain": [
       "<Figure size 1080x576 with 1 Axes>"
      ]
     },
     "metadata": {
      "needs_background": "light"
     },
     "output_type": "display_data"
    }
   ],
   "source": [
    "plt.figure(figsize=(15,8))\n",
    "df.corr()['TARGET'][1:26].sort_values(ascending = False).plot(kind='bar')"
   ]
  },
  {
   "cell_type": "code",
   "execution_count": 12,
   "metadata": {},
   "outputs": [],
   "source": [
    "df = df.drop(\"C1\", axis=1)"
   ]
  },
  {
   "cell_type": "code",
   "execution_count": 13,
   "metadata": {},
   "outputs": [],
   "source": [
    "df.drop_duplicates(keep = \"first\", inplace = True)"
   ]
  },
  {
   "cell_type": "code",
   "execution_count": 14,
   "metadata": {},
   "outputs": [
    {
     "data": {
      "text/plain": [
       "(492956, 26)"
      ]
     },
     "execution_count": 14,
     "metadata": {},
     "output_type": "execute_result"
    }
   ],
   "source": [
    "df.shape"
   ]
  },
  {
   "cell_type": "code",
   "execution_count": 15,
   "metadata": {},
   "outputs": [
    {
     "data": {
      "text/plain": [
       "<BarContainer object of 2 artists>"
      ]
     },
     "execution_count": 15,
     "metadata": {},
     "output_type": "execute_result"
    },
    {
     "data": {
      "image/png": "[encoded data removed]",
      "text/plain": [
       "<Figure size 432x288 with 1 Axes>"
      ]
     },
     "metadata": {
      "needs_background": "light"
     },
     "output_type": "display_data"
    }
   ],
   "source": [
    "plt.bar([\"0\", \"1\"], df['TARGET'].value_counts())"
   ]
  },
  {
   "cell_type": "code",
   "execution_count": 16,
   "metadata": {},
   "outputs": [
    {
     "data": {
      "text/plain": [
       "array([323531, 343835, 343433, 313435, 343439,   3434, 333538, 343637,\n",
       "         3234, 323137, 343834, 313931, 343139, 313438, 343038, 313339,\n",
       "       313430, 343138, 343836, 343039, 323233, 343530, 313436, 343838,\n",
       "       313434, 343230,   3230, 343638, 343438, 333837, 343636, 343232,\n",
       "       343037,   3438, 343130,   3138, 313738, 353032, 333539, 313739,\n",
       "       343030, 333631, 313736, 313437, 333537, 353036, 313137, 313333,\n",
       "       333633,   3631, 313737, 313335, 313439, 313337,   3437, 313331,\n",
       "       343634, 313138, 323530, 343031,   3330, 313433, 353031, 343336],\n",
       "      dtype=int64)"
      ]
     },
     "execution_count": 16,
     "metadata": {},
     "output_type": "execute_result"
    }
   ],
   "source": [
    "df['C2'].unique()"
   ]
  },
  {
   "cell_type": "code",
   "execution_count": 17,
   "metadata": {},
   "outputs": [
    {
     "data": {
      "text/html": [
       "<div>\n",
       "<style scoped>\n",
       "    .dataframe tbody tr th:only-of-type {\n",
       "        vertical-align: middle;\n",
       "    }\n",
       "\n",
       "    .dataframe tbody tr th {\n",
       "        vertical-align: top;\n",
       "    }\n",
       "\n",
       "    .dataframe thead th {\n",
       "        text-align: right;\n",
       "    }\n",
       "</style>\n",
       "<table border=\"1\" class=\"dataframe\">\n",
       "  <thead>\n",
       "    <tr style=\"text-align: right;\">\n",
       "      <th></th>\n",
       "      <th>C2</th>\n",
       "      <th>C3</th>\n",
       "      <th>N1</th>\n",
       "      <th>N2</th>\n",
       "      <th>N3</th>\n",
       "      <th>N4</th>\n",
       "      <th>N5</th>\n",
       "      <th>N6</th>\n",
       "      <th>N7</th>\n",
       "      <th>N8</th>\n",
       "      <th>...</th>\n",
       "      <th>N15</th>\n",
       "      <th>N16</th>\n",
       "      <th>N17</th>\n",
       "      <th>N18</th>\n",
       "      <th>N19</th>\n",
       "      <th>N20</th>\n",
       "      <th>N21</th>\n",
       "      <th>N22</th>\n",
       "      <th>N23</th>\n",
       "      <th>TARGET</th>\n",
       "    </tr>\n",
       "  </thead>\n",
       "  <tbody>\n",
       "    <tr>\n",
       "      <td>0</td>\n",
       "      <td>323531</td>\n",
       "      <td>33</td>\n",
       "      <td>83.74</td>\n",
       "      <td>3172.92</td>\n",
       "      <td>181.48</td>\n",
       "      <td>24.83</td>\n",
       "      <td>9.60</td>\n",
       "      <td>0.00</td>\n",
       "      <td>0.00</td>\n",
       "      <td>24.83</td>\n",
       "      <td>...</td>\n",
       "      <td>7</td>\n",
       "      <td>0</td>\n",
       "      <td>0</td>\n",
       "      <td>36</td>\n",
       "      <td>7</td>\n",
       "      <td>36</td>\n",
       "      <td>7</td>\n",
       "      <td>0</td>\n",
       "      <td>0</td>\n",
       "      <td>0</td>\n",
       "    </tr>\n",
       "    <tr>\n",
       "      <td>1</td>\n",
       "      <td>343835</td>\n",
       "      <td>31</td>\n",
       "      <td>1.46</td>\n",
       "      <td>1273.88</td>\n",
       "      <td>92.11</td>\n",
       "      <td>211.78</td>\n",
       "      <td>28.98</td>\n",
       "      <td>5.75</td>\n",
       "      <td>13.85</td>\n",
       "      <td>206.03</td>\n",
       "      <td>...</td>\n",
       "      <td>18</td>\n",
       "      <td>5</td>\n",
       "      <td>6</td>\n",
       "      <td>52</td>\n",
       "      <td>12</td>\n",
       "      <td>57</td>\n",
       "      <td>18</td>\n",
       "      <td>0</td>\n",
       "      <td>0</td>\n",
       "      <td>0</td>\n",
       "    </tr>\n",
       "    <tr>\n",
       "      <td>2</td>\n",
       "      <td>323531</td>\n",
       "      <td>33</td>\n",
       "      <td>0.00</td>\n",
       "      <td>31.95</td>\n",
       "      <td>763.19</td>\n",
       "      <td>48.13</td>\n",
       "      <td>77.22</td>\n",
       "      <td>9.33</td>\n",
       "      <td>4.90</td>\n",
       "      <td>38.80</td>\n",
       "      <td>...</td>\n",
       "      <td>24</td>\n",
       "      <td>18</td>\n",
       "      <td>6</td>\n",
       "      <td>46</td>\n",
       "      <td>18</td>\n",
       "      <td>64</td>\n",
       "      <td>24</td>\n",
       "      <td>0</td>\n",
       "      <td>0</td>\n",
       "      <td>0</td>\n",
       "    </tr>\n",
       "    <tr>\n",
       "      <td>3</td>\n",
       "      <td>343433</td>\n",
       "      <td>31</td>\n",
       "      <td>117.49</td>\n",
       "      <td>529.19</td>\n",
       "      <td>1506.40</td>\n",
       "      <td>127.67</td>\n",
       "      <td>49.30</td>\n",
       "      <td>6.25</td>\n",
       "      <td>0.20</td>\n",
       "      <td>120.07</td>\n",
       "      <td>...</td>\n",
       "      <td>57</td>\n",
       "      <td>4</td>\n",
       "      <td>1</td>\n",
       "      <td>142</td>\n",
       "      <td>56</td>\n",
       "      <td>148</td>\n",
       "      <td>57</td>\n",
       "      <td>0</td>\n",
       "      <td>0</td>\n",
       "      <td>0</td>\n",
       "    </tr>\n",
       "    <tr>\n",
       "      <td>4</td>\n",
       "      <td>343835</td>\n",
       "      <td>31</td>\n",
       "      <td>0.00</td>\n",
       "      <td>38.24</td>\n",
       "      <td>3493.18</td>\n",
       "      <td>389.98</td>\n",
       "      <td>72.78</td>\n",
       "      <td>16.72</td>\n",
       "      <td>4.28</td>\n",
       "      <td>373.27</td>\n",
       "      <td>...</td>\n",
       "      <td>28</td>\n",
       "      <td>17</td>\n",
       "      <td>5</td>\n",
       "      <td>69</td>\n",
       "      <td>23</td>\n",
       "      <td>86</td>\n",
       "      <td>28</td>\n",
       "      <td>0</td>\n",
       "      <td>0</td>\n",
       "      <td>0</td>\n",
       "    </tr>\n",
       "    <tr>\n",
       "      <td>...</td>\n",
       "      <td>...</td>\n",
       "      <td>...</td>\n",
       "      <td>...</td>\n",
       "      <td>...</td>\n",
       "      <td>...</td>\n",
       "      <td>...</td>\n",
       "      <td>...</td>\n",
       "      <td>...</td>\n",
       "      <td>...</td>\n",
       "      <td>...</td>\n",
       "      <td>...</td>\n",
       "      <td>...</td>\n",
       "      <td>...</td>\n",
       "      <td>...</td>\n",
       "      <td>...</td>\n",
       "      <td>...</td>\n",
       "      <td>...</td>\n",
       "      <td>...</td>\n",
       "      <td>...</td>\n",
       "      <td>...</td>\n",
       "      <td>...</td>\n",
       "    </tr>\n",
       "    <tr>\n",
       "      <td>513994</td>\n",
       "      <td>323233</td>\n",
       "      <td>31</td>\n",
       "      <td>0.00</td>\n",
       "      <td>0.00</td>\n",
       "      <td>0.00</td>\n",
       "      <td>0.00</td>\n",
       "      <td>46.90</td>\n",
       "      <td>0.00</td>\n",
       "      <td>0.00</td>\n",
       "      <td>0.00</td>\n",
       "      <td>...</td>\n",
       "      <td>4</td>\n",
       "      <td>0</td>\n",
       "      <td>0</td>\n",
       "      <td>0</td>\n",
       "      <td>4</td>\n",
       "      <td>0</td>\n",
       "      <td>4</td>\n",
       "      <td>0</td>\n",
       "      <td>0</td>\n",
       "      <td>0</td>\n",
       "    </tr>\n",
       "    <tr>\n",
       "      <td>513996</td>\n",
       "      <td>343433</td>\n",
       "      <td>33</td>\n",
       "      <td>0.00</td>\n",
       "      <td>0.00</td>\n",
       "      <td>0.00</td>\n",
       "      <td>0.00</td>\n",
       "      <td>40.85</td>\n",
       "      <td>0.00</td>\n",
       "      <td>0.00</td>\n",
       "      <td>0.00</td>\n",
       "      <td>...</td>\n",
       "      <td>4</td>\n",
       "      <td>0</td>\n",
       "      <td>0</td>\n",
       "      <td>0</td>\n",
       "      <td>4</td>\n",
       "      <td>0</td>\n",
       "      <td>4</td>\n",
       "      <td>0</td>\n",
       "      <td>0</td>\n",
       "      <td>0</td>\n",
       "    </tr>\n",
       "    <tr>\n",
       "      <td>513997</td>\n",
       "      <td>343637</td>\n",
       "      <td>33</td>\n",
       "      <td>0.04</td>\n",
       "      <td>0.00</td>\n",
       "      <td>0.00</td>\n",
       "      <td>0.00</td>\n",
       "      <td>0.00</td>\n",
       "      <td>0.00</td>\n",
       "      <td>0.00</td>\n",
       "      <td>0.00</td>\n",
       "      <td>...</td>\n",
       "      <td>0</td>\n",
       "      <td>0</td>\n",
       "      <td>0</td>\n",
       "      <td>0</td>\n",
       "      <td>0</td>\n",
       "      <td>0</td>\n",
       "      <td>0</td>\n",
       "      <td>0</td>\n",
       "      <td>0</td>\n",
       "      <td>0</td>\n",
       "    </tr>\n",
       "    <tr>\n",
       "      <td>513998</td>\n",
       "      <td>313339</td>\n",
       "      <td>31</td>\n",
       "      <td>0.00</td>\n",
       "      <td>0.05</td>\n",
       "      <td>0.00</td>\n",
       "      <td>0.32</td>\n",
       "      <td>0.00</td>\n",
       "      <td>0.00</td>\n",
       "      <td>0.00</td>\n",
       "      <td>0.32</td>\n",
       "      <td>...</td>\n",
       "      <td>0</td>\n",
       "      <td>0</td>\n",
       "      <td>0</td>\n",
       "      <td>1</td>\n",
       "      <td>0</td>\n",
       "      <td>1</td>\n",
       "      <td>0</td>\n",
       "      <td>0</td>\n",
       "      <td>0</td>\n",
       "      <td>1</td>\n",
       "    </tr>\n",
       "    <tr>\n",
       "      <td>514000</td>\n",
       "      <td>313339</td>\n",
       "      <td>31</td>\n",
       "      <td>0.00</td>\n",
       "      <td>0.00</td>\n",
       "      <td>0.00</td>\n",
       "      <td>0.00</td>\n",
       "      <td>1.68</td>\n",
       "      <td>0.00</td>\n",
       "      <td>0.00</td>\n",
       "      <td>0.00</td>\n",
       "      <td>...</td>\n",
       "      <td>1</td>\n",
       "      <td>0</td>\n",
       "      <td>0</td>\n",
       "      <td>0</td>\n",
       "      <td>1</td>\n",
       "      <td>0</td>\n",
       "      <td>1</td>\n",
       "      <td>0</td>\n",
       "      <td>0</td>\n",
       "      <td>0</td>\n",
       "    </tr>\n",
       "  </tbody>\n",
       "</table>\n",
       "<p>492956 rows × 26 columns</p>\n",
       "</div>"
      ],
      "text/plain": [
       "            C2  C3      N1       N2       N3      N4     N5     N6     N7  \\\n",
       "0       323531  33   83.74  3172.92   181.48   24.83   9.60   0.00   0.00   \n",
       "1       343835  31    1.46  1273.88    92.11  211.78  28.98   5.75  13.85   \n",
       "2       323531  33    0.00    31.95   763.19   48.13  77.22   9.33   4.90   \n",
       "3       343433  31  117.49   529.19  1506.40  127.67  49.30   6.25   0.20   \n",
       "4       343835  31    0.00    38.24  3493.18  389.98  72.78  16.72   4.28   \n",
       "...        ...  ..     ...      ...      ...     ...    ...    ...    ...   \n",
       "513994  323233  31    0.00     0.00     0.00    0.00  46.90   0.00   0.00   \n",
       "513996  343433  33    0.00     0.00     0.00    0.00  40.85   0.00   0.00   \n",
       "513997  343637  33    0.04     0.00     0.00    0.00   0.00   0.00   0.00   \n",
       "513998  313339  31    0.00     0.05     0.00    0.32   0.00   0.00   0.00   \n",
       "514000  313339  31    0.00     0.00     0.00    0.00   1.68   0.00   0.00   \n",
       "\n",
       "            N8  ...  N15  N16  N17  N18  N19  N20  N21  N22  N23  TARGET  \n",
       "0        24.83  ...    7    0    0   36    7   36    7    0    0       0  \n",
       "1       206.03  ...   18    5    6   52   12   57   18    0    0       0  \n",
       "2        38.80  ...   24   18    6   46   18   64   24    0    0       0  \n",
       "3       120.07  ...   57    4    1  142   56  148   57    0    0       0  \n",
       "4       373.27  ...   28   17    5   69   23   86   28    0    0       0  \n",
       "...        ...  ...  ...  ...  ...  ...  ...  ...  ...  ...  ...     ...  \n",
       "513994    0.00  ...    4    0    0    0    4    0    4    0    0       0  \n",
       "513996    0.00  ...    4    0    0    0    4    0    4    0    0       0  \n",
       "513997    0.00  ...    0    0    0    0    0    0    0    0    0       0  \n",
       "513998    0.32  ...    0    0    0    1    0    1    0    0    0       1  \n",
       "514000    0.00  ...    1    0    0    0    1    0    1    0    0       0  \n",
       "\n",
       "[492956 rows x 26 columns]"
      ]
     },
     "execution_count": 17,
     "metadata": {},
     "output_type": "execute_result"
    }
   ],
   "source": [
    "df"
   ]
  },
  {
   "cell_type": "markdown",
   "metadata": {},
   "source": [
    "## Building a model"
   ]
  },
  {
   "cell_type": "code",
   "execution_count": 18,
   "metadata": {},
   "outputs": [],
   "source": [
    "import sklearn\n",
    "from sklearn.model_selection import train_test_split\n",
    "from sklearn.linear_model import LogisticRegression\n",
    "from sklearn.ensemble import RandomForestClassifier\n",
    "from sklearn.metrics import classification_report\n",
    "from sklearn.metrics import confusion_matrix\n",
    "from sklearn.metrics import accuracy_score\n",
    "from sklearn.metrics import roc_auc_score\n",
    "from sklearn.preprocessing import StandardScaler\n",
    "from sklearn.feature_selection import SelectKBest\n",
    "from sklearn.feature_selection import chi2"
   ]
  },
  {
   "cell_type": "code",
   "execution_count": null,
   "metadata": {},
   "outputs": [],
   "source": []
  },
  {
   "cell_type": "code",
   "execution_count": null,
   "metadata": {},
   "outputs": [],
   "source": []
  },
  {
   "cell_type": "code",
   "execution_count": 19,
   "metadata": {},
   "outputs": [],
   "source": [
    "X = df.drop('TARGET', axis=1)\n",
    "y= df['TARGET']"
   ]
  },
  {
   "cell_type": "markdown",
   "metadata": {},
   "source": [
    "### Normalization"
   ]
  },
  {
   "cell_type": "code",
   "execution_count": 20,
   "metadata": {},
   "outputs": [
    {
     "name": "stderr",
     "output_type": "stream",
     "text": [
      "C:\\Users\\dnurymzhan001\\AppData\\Local\\Continuum\\anaconda3\\lib\\site-packages\\sklearn\\preprocessing\\data.py:334: DataConversionWarning: Data with input dtype int64, float64 were all converted to float64 by MinMaxScaler.\n",
      "  return self.partial_fit(X, y)\n"
     ]
    }
   ],
   "source": [
    "min_max_scaler = preprocessing.MinMaxScaler()\n",
    "X_min_max = min_max_scaler.fit_transform(X)"
   ]
  },
  {
   "cell_type": "code",
   "execution_count": null,
   "metadata": {},
   "outputs": [],
   "source": []
  },
  {
   "cell_type": "markdown",
   "metadata": {},
   "source": [
    "## Feature Selection"
   ]
  },
  {
   "cell_type": "code",
   "execution_count": 21,
   "metadata": {},
   "outputs": [],
   "source": [
    "X = pd.DataFrame(X_min_max,columns = df.drop('TARGET',axis=1).columns)\n",
    "y = df['TARGET']"
   ]
  },
  {
   "cell_type": "markdown",
   "metadata": {},
   "source": [
    "### Chi test"
   ]
  },
  {
   "cell_type": "code",
   "execution_count": 86,
   "metadata": {},
   "outputs": [
    {
     "name": "stdout",
     "output_type": "stream",
     "text": [
      "   Specs        Score\n",
      "21   N20  1010.954507\n",
      "15   N14  1007.924552\n",
      "19   N18   801.027564\n",
      "22   N21   647.322029\n",
      "16   N15   646.163323\n",
      "20   N19   415.147161\n",
      "11   N10   407.466715\n",
      "5     N4   406.559968\n",
      "9     N8   375.345043\n",
      "17   N16   316.737543\n",
      "7     N6   284.154746\n",
      "4     N3   247.055424\n",
      "12   N11   181.146955\n",
      "6     N5   180.954022\n",
      "18   N17   159.727503\n"
     ]
    }
   ],
   "source": [
    "bestfeatures = SelectKBest(score_func=chi2, k=10)\n",
    "fit = bestfeatures.fit(X,y)\n",
    "dfscores = pd.DataFrame(fit.scores_)\n",
    "dfcolumns = pd.DataFrame(df.drop('TARGET',axis=1).columns)\n",
    "featureScores = pd.concat([dfcolumns,dfscores],axis=1)\n",
    "featureScores.columns = ['Specs','Score']\n",
    "print(featureScores.nlargest(15,'Score'))"
   ]
  },
  {
   "cell_type": "code",
   "execution_count": 93,
   "metadata": {},
   "outputs": [],
   "source": [
    "features = featureScores.nlargest(15,'Score')['Specs'].values"
   ]
  },
  {
   "cell_type": "code",
   "execution_count": 143,
   "metadata": {},
   "outputs": [],
   "source": []
  },
  {
   "cell_type": "markdown",
   "metadata": {},
   "source": [
    "### RF feature importances"
   ]
  },
  {
   "cell_type": "code",
   "execution_count": 30,
   "metadata": {},
   "outputs": [],
   "source": [
    "X_train, X_test, y_train, y_test = train_test_split(X, y, test_size = 0.2, random_state = 14)"
   ]
  },
  {
   "cell_type": "code",
   "execution_count": 31,
   "metadata": {},
   "outputs": [
    {
     "name": "stderr",
     "output_type": "stream",
     "text": [
      "C:\\Users\\dnurymzhan001\\AppData\\Local\\Continuum\\anaconda3\\lib\\site-packages\\sklearn\\ensemble\\forest.py:246: FutureWarning: The default value of n_estimators will change from 10 in version 0.20 to 100 in 0.22.\n",
      "  \"10 in version 0.20 to 100 in 0.22.\", FutureWarning)\n"
     ]
    },
    {
     "name": "stdout",
     "output_type": "stream",
     "text": [
      "0.9645305907172996\n"
     ]
    }
   ],
   "source": [
    "from sklearn.ensemble import RandomForestClassifier\n",
    "from sklearn import metrics\n",
    "\n",
    "model_rf = RandomForestClassifier()\n",
    "model_rf.fit(X_train, y_train)\n",
    "\n",
    "prediction_test = model_rf.predict(X_test)\n",
    "print(metrics.accuracy_score(y_test, prediction_test))"
   ]
  },
  {
   "cell_type": "code",
   "execution_count": 26,
   "metadata": {},
   "outputs": [
    {
     "data": {
      "text/plain": [
       "<matplotlib.axes._subplots.AxesSubplot at 0x15e871ed400>"
      ]
     },
     "execution_count": 26,
     "metadata": {},
     "output_type": "execute_result"
    },
    {
     "data": {
      "image/png": "[encoded data removed]",
      "text/plain": [
       "<Figure size 432x288 with 1 Axes>"
      ]
     },
     "metadata": {
      "needs_background": "light"
     },
     "output_type": "display_data"
    }
   ],
   "source": [
    "importances = model_rf.feature_importances_\n",
    "weights = pd.Series(importances,\n",
    "                 index=X.columns.values)\n",
    "weights.sort_values()[-15:].plot(kind = 'barh')"
   ]
  },
  {
   "cell_type": "code",
   "execution_count": 27,
   "metadata": {},
   "outputs": [],
   "source": [
    "features = weights.sort_values()[-15:].index"
   ]
  },
  {
   "cell_type": "code",
   "execution_count": 28,
   "metadata": {},
   "outputs": [
    {
     "data": {
      "text/plain": [
       "Index(['N1', 'N6', 'N15', 'N19', 'N21', 'N8', 'N3', 'N10', 'N4', 'N2', 'N7',\n",
       "       'N9', 'C2', 'N11', 'N5'],\n",
       "      dtype='object')"
      ]
     },
     "execution_count": 28,
     "metadata": {},
     "output_type": "execute_result"
    }
   ],
   "source": [
    "features"
   ]
  },
  {
   "cell_type": "code",
   "execution_count": 29,
   "metadata": {},
   "outputs": [],
   "source": [
    "X = X[features]"
   ]
  },
  {
   "cell_type": "markdown",
   "metadata": {},
   "source": [
    "## Sampling"
   ]
  },
  {
   "cell_type": "code",
   "execution_count": 29,
   "metadata": {},
   "outputs": [],
   "source": [
    "from sklearn.utils import resample"
   ]
  },
  {
   "cell_type": "code",
   "execution_count": 30,
   "metadata": {},
   "outputs": [],
   "source": [
    "df_new = pd.DataFrame(X)\n",
    "df_new['TARGET'] = y"
   ]
  },
  {
   "cell_type": "code",
   "execution_count": 31,
   "metadata": {},
   "outputs": [],
   "source": [
    "df_new.drop_duplicates(keep = 'first', inplace=True)"
   ]
  },
  {
   "cell_type": "code",
   "execution_count": 32,
   "metadata": {},
   "outputs": [
    {
     "data": {
      "text/plain": [
       "(490964, 16)"
      ]
     },
     "execution_count": 32,
     "metadata": {},
     "output_type": "execute_result"
    }
   ],
   "source": [
    "df_new.shape"
   ]
  },
  {
   "cell_type": "code",
   "execution_count": 33,
   "metadata": {},
   "outputs": [
    {
     "data": {
      "text/plain": [
       "0.0    25000\n",
       "1.0    14982\n",
       "Name: TARGET, dtype: int64"
      ]
     },
     "execution_count": 33,
     "metadata": {},
     "output_type": "execute_result"
    }
   ],
   "source": [
    "df_majority = df_new[df_new.TARGET==0]\n",
    "df_minority = df_new[df_new.TARGET==1]\n",
    "\n",
    "df_majority_downsampled = resample(df_majority, \n",
    "                                 replace=False,\n",
    "                                 n_samples=25000,\n",
    "                                 random_state=123)\n",
    "\n",
    "df_downsampled = pd.concat([df_majority_downsampled, df_minority])\n",
    "df_downsampled.TARGET.value_counts()"
   ]
  },
  {
   "cell_type": "code",
   "execution_count": 49,
   "metadata": {},
   "outputs": [],
   "source": [
    "df_downsampled = df_downsampled.reset_index()"
   ]
  },
  {
   "cell_type": "markdown",
   "metadata": {},
   "source": [
    "## Building Models"
   ]
  },
  {
   "cell_type": "code",
   "execution_count": 50,
   "metadata": {},
   "outputs": [],
   "source": [
    "X = df_downsampled.drop('TARGET',axis=1)\n",
    "y = df_downsampled['TARGET']"
   ]
  },
  {
   "cell_type": "code",
   "execution_count": 51,
   "metadata": {},
   "outputs": [],
   "source": [
    "X_train, X_test, y_train, y_test = train_test_split(X, y, test_size = 0.2, random_state = 14)"
   ]
  },
  {
   "cell_type": "markdown",
   "metadata": {},
   "source": [
    "### Random Forest"
   ]
  },
  {
   "cell_type": "code",
   "execution_count": 32,
   "metadata": {},
   "outputs": [
    {
     "name": "stderr",
     "output_type": "stream",
     "text": [
      "C:\\Users\\dnurymzhan001\\AppData\\Local\\Continuum\\anaconda3\\lib\\site-packages\\sklearn\\ensemble\\forest.py:246: FutureWarning: The default value of n_estimators will change from 10 in version 0.20 to 100 in 0.22.\n",
      "  \"10 in version 0.20 to 100 in 0.22.\", FutureWarning)\n"
     ]
    },
    {
     "name": "stdout",
     "output_type": "stream",
     "text": [
      "0.9639524505030834\n",
      "[[94954   472]\n",
      " [ 3082    84]]\n"
     ]
    }
   ],
   "source": [
    "from sklearn.ensemble import RandomForestClassifier\n",
    "from sklearn import metrics\n",
    "from sklearn.metrics import classification_report, confusion_matrix  \n",
    "\n",
    "model_rf = RandomForestClassifier()\n",
    "model_rf.fit(X_train, y_train)\n",
    "\n",
    "# Make predictions\n",
    "preds_rf = model_rf.predict(X_test)\n",
    "print(metrics.accuracy_score(y_test, preds_rf))\n",
    "print(confusion_matrix(y_test,preds_rf))"
   ]
  },
  {
   "cell_type": "markdown",
   "metadata": {},
   "source": [
    "### SVM"
   ]
  },
  {
   "cell_type": "code",
   "execution_count": 33,
   "metadata": {},
   "outputs": [
    {
     "data": {
      "text/plain": [
       "0.9678878610840637"
      ]
     },
     "execution_count": 33,
     "metadata": {},
     "output_type": "execute_result"
    }
   ],
   "source": [
    "from sklearn.svm import SVC\n",
    "\n",
    "model_svm = SVC(kernel='linear') \n",
    "model_svm.fit(X_train,y_train)\n",
    "preds_svm = model_svm.predict(X_test)\n",
    "metrics.accuracy_score(y_test, preds_svm)"
   ]
  },
  {
   "cell_type": "code",
   "execution_count": 34,
   "metadata": {},
   "outputs": [
    {
     "name": "stdout",
     "output_type": "stream",
     "text": [
      "[[95426     0]\n",
      " [ 3166     0]]\n"
     ]
    }
   ],
   "source": [
    "print(confusion_matrix(y_test,preds_svm))"
   ]
  },
  {
   "cell_type": "code",
   "execution_count": null,
   "metadata": {},
   "outputs": [],
   "source": []
  },
  {
   "cell_type": "markdown",
   "metadata": {},
   "source": [
    "### AdaBoost"
   ]
  },
  {
   "cell_type": "code",
   "execution_count": 35,
   "metadata": {},
   "outputs": [
    {
     "name": "stdout",
     "output_type": "stream",
     "text": [
      "[[95426     0]\n",
      " [ 3166     0]]\n"
     ]
    }
   ],
   "source": [
    "from sklearn.ensemble import AdaBoostClassifier\n",
    "model_abc = AdaBoostClassifier()\n",
    "model_abc.fit(X_train,y_train)\n",
    "preds_abc = model_abc.predict(X_test)"
   ]
  },
  {
   "cell_type": "code",
   "execution_count": 37,
   "metadata": {},
   "outputs": [
    {
     "name": "stdout",
     "output_type": "stream",
     "text": [
      "0.9678878610840637\n",
      "[[95426     0]\n",
      " [ 3166     0]]\n"
     ]
    }
   ],
   "source": [
    "print(metrics.accuracy_score(y_test, preds_abc))\n",
    "print(confusion_matrix(y_test,preds_abc))"
   ]
  },
  {
   "cell_type": "markdown",
   "metadata": {},
   "source": [
    "### XGBoost"
   ]
  },
  {
   "cell_type": "code",
   "execution_count": 36,
   "metadata": {},
   "outputs": [
    {
     "name": "stdout",
     "output_type": "stream",
     "text": [
      "[[95426     0]\n",
      " [ 3166     0]]\n"
     ]
    }
   ],
   "source": [
    "from xgboost import XGBClassifier\n",
    "model_xgb = XGBClassifier()\n",
    "model_xgb.fit(X_train, y_train)\n",
    "preds_xgb = model_xgb.predict(X_test)"
   ]
  },
  {
   "cell_type": "code",
   "execution_count": 38,
   "metadata": {},
   "outputs": [
    {
     "name": "stdout",
     "output_type": "stream",
     "text": [
      "0.9678878610840637\n",
      "[[95426     0]\n",
      " [ 3166     0]]\n"
     ]
    }
   ],
   "source": [
    "print(metrics.accuracy_score(y_test, preds_xgb))\n",
    "print(confusion_matrix(y_test, preds_xgb))"
   ]
  },
  {
   "cell_type": "code",
   "execution_count": null,
   "metadata": {},
   "outputs": [],
   "source": []
  },
  {
   "cell_type": "code",
   "execution_count": 45,
   "metadata": {},
   "outputs": [
    {
     "data": {
      "image/png": "[encoded data removed]",
      "text/plain": [
       "<Figure size 1440x1080 with 4 Axes>"
      ]
     },
     "metadata": {
      "needs_background": "light"
     },
     "output_type": "display_data"
    }
   ],
   "source": [
    "fig, ax_arr = plt.subplots(nrows = 2, ncols = 2, figsize = (20,15))\n",
    "\n",
    "from sklearn import metrics\n",
    "\n",
    "#Random forest\n",
    "rfc_prob = model_rf.predict_proba(X_test)[:,1]\n",
    "fprRfc, tprRfc, thresholdsRfc = metrics.roc_curve(y_test, rfc_prob)\n",
    "roc_auc_rfc = metrics.auc(fprRfc,tprRfc)\n",
    "ax_arr[0,0].plot(fprRfc, tprRfc,'b',label = 'AUC = %0.2f' % roc_auc_rfc,color = 'green')\n",
    "ax_arr[0,0].plot([0, 1], [0, 1], 'k--')\n",
    "ax_arr[0,0].set_xlabel('False Positive Rate')\n",
    "ax_arr[0,0].set_ylabel('True Positive Rate')\n",
    "ax_arr[0,0].set_title('ROC for RFC.', fontsize = 20)\n",
    "ax_arr[0,0].legend(loc = 'lower right', prop={'size': 16})\n",
    "\n",
    "\n",
    "#AdaBoost\n",
    "knn_prob = model_abc.predict_proba(X_test)[:,1]\n",
    "fprknn, tprknn, thresholdsgbc = metrics.roc_curve(y_test, knn_prob)\n",
    "roc_auc_gbc = metrics.auc(fprknn,tprknn)\n",
    "ax_arr[1,0].plot(fprknn, tprknn,'b',label = 'AUC = %0.2f' % roc_auc_gbc,color = 'red')\n",
    "ax_arr[1,0].plot([0, 1], [0, 1], 'k--')\n",
    "ax_arr[1,0].set_xlabel('False Positive Rate')\n",
    "ax_arr[1,0].set_ylabel('True Positive Rate')\n",
    "ax_arr[1,0].set_title('ROC for AdaBoost.', fontsize = 20)\n",
    "ax_arr[1,0].legend(loc = 'lower right', prop={'size': 16})\n",
    "\n",
    "#XGBoost\n",
    "lr_prob = model_xgb.predict_proba(X_test)[:,1]\n",
    "fprLr, tprLr, thresholdsLr = metrics.roc_curve(y_test, lr_prob)\n",
    "roc_auc_lr = metrics.auc(fprLr,tprLr)\n",
    "ax_arr[0,1].plot(fprLr, tprLr,'b',label = 'AUC = %0.2f' % roc_auc_lr,color = 'blue')\n",
    "ax_arr[0,1].plot([0, 1], [0, 1], 'k--')\n",
    "ax_arr[0,1].set_xlabel('False Positive Rate')\n",
    "ax_arr[0,1].set_ylabel('True Positive Rate')\n",
    "ax_arr[0,1].set_title('ROC for XGBoost', fontsize = 20)\n",
    "ax_arr[0,1].legend(loc = 'lower right', prop={'size': 16})\n",
    "\n",
    "#For All\n",
    "ax_arr[1,1].plot(fprRfc,tprRfc, label ='Random Forest', color = 'green')\n",
    "ax_arr[1,1].plot(fprknn,tprknn, label ='AdaBoost', color = 'red')\n",
    "ax_arr[1,1].plot(fprLr,tprLr, label ='XGBoost', color = 'blue')\n",
    "ax_arr[1,1].plot([0, 1], [0, 1], 'k--')\n",
    "ax_arr[1,1].set_title('Receiver Operating Comparison ',fontsize=20)\n",
    "ax_arr[1,1].set_ylabel('True Positive Rate',fontsize=20)\n",
    "ax_arr[1,1].set_xlabel('False Positive Rate',fontsize=15)\n",
    "ax_arr[1,1].legend(loc = 'lower right', prop={'size': 16})\n",
    "\n",
    "plt.subplots_adjust(wspace=0.2)\n",
    "plt.tight_layout() \n",
    "plt.show()"
   ]
  },
  {
   "cell_type": "code",
   "execution_count": null,
   "metadata": {},
   "outputs": [],
   "source": []
  },
  {
   "cell_type": "code",
   "execution_count": null,
   "metadata": {},
   "outputs": [],
   "source": []
  },
  {
   "cell_type": "markdown",
   "metadata": {},
   "source": [
    "# Проделанная работа и над чем стоит поработать в будущем"
   ]
  },
  {
   "cell_type": "raw",
   "metadata": {},
   "source": [
    "1) Анализ данных\n",
    "На данном этапе не удалось детально просмотреть все признаки и как-то связать их с Таргетом, так как наименования были скрыты и я не стал рисковать и делать какие-либо гипотезы по признакам\n",
    "\n",
    "2) Чистка данных\n",
    "Все данные были чистыми и оставалось лишь задать им единый скейл (я поставил от 0-1). Также, на данном шаге я убрал колонку C1 и оставил только уникальные записи. Почему я так сделал? Потому что количество уникальных значении в колонке C1 совпадало с общим количеством записей. Я предполагаю что это индекс.\n",
    "\n",
    "После удаления всех дубликатов данные уменьшились на 10% и соотношение классов было несбалансированным. Я урезал нулевой класс и оставил 25000 записей. (25000 для 0 и 15000 для 1)\n",
    "\n",
    "3) Отбор признаков\n",
    "После построения RFClassifier, посмотрел на признаки, которые больше всего влияли на Таргет. Оставил ТОП 15 этих признаков. \n",
    "PS результат улучшился на 5% по accuracy rate\n",
    "\n",
    "4) Построение моделей\n",
    "Я думаю что если вы мне отправили чистые данные, то вы от меня ожидали увидеть навыки построения различных моделей и в целом на результат модели. :) В связи с этим хотел добиться лучших результатов благодаря ансамблю (RF, SVM(исключение), AdaBoost, XGBoost)\n",
    "\n",
    "5) Выбор модели\n",
    "Для выбора модели я использовал метрику AUC/ROC показатель.\n",
    "AUC/ROC составил 0.82 для XGBoost, что является лучшим среди остальных, поэтому я выберу его.\n",
    "\n",
    "6) Дальнейшая работа\n",
    "    1. Анализ данных - детально разобрать суть признаков для лучшего понимания данных\n",
    "    2. Чистка данных - сгруппировать некоторые значения, если имеются. Нормализовать/стандатизировать каждый признак по его характеристике (качественный, числовой, ранг и тд)\n",
    "    3. Построение модели - поработать с различными гиперпараметрами.\n",
    "    4. Так же была идея разбить на кластеры и тренировать по каждому отдельному кластеру\n",
    "\n",
    "\n",
    "Благодарю за внимание!\n",
    "Диас"
   ]
  },
  {
   "cell_type": "code",
   "execution_count": null,
   "metadata": {},
   "outputs": [],
   "source": []
  }
 ],
 "metadata": {
  "kernelspec": {
   "display_name": "Python 3",
   "language": "python",
   "name": "python3"
  },
  "language_info": {
   "codemirror_mode": {
    "name": "ipython",
    "version": 3
   },
   "file_extension": ".py",
   "mimetype": "text/x-python",
   "name": "python",
   "nbconvert_exporter": "python",
   "pygments_lexer": "ipython3",
   "version": "3.7.1"
  }
 },
 "nbformat": 4,
 "nbformat_minor": 2
}
